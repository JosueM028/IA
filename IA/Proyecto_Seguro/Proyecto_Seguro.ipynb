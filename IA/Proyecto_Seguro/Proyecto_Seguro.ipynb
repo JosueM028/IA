{
 "cells": [
  {
   "cell_type": "markdown",
   "metadata": {},
   "source": [
    "# EDA Seguro Médico\n",
    "\n",
    "Notebook de análisis exploratorio de datos (EDA) sobre el dataset de costos de seguros médicos.\n",
    "Utilizamos métodos de limpieza, transformación y análisis para preparar los datos para modelado."
   ]
  },
  {
   "cell_type": "markdown",
   "metadata": {},
   "source": [
    "## 1. Carga de librerías y datos"
   ]
  },
  {
   "cell_type": "code",
   "execution_count": null,
   "metadata": {},
   "outputs": [],
   "source": [
    "import pandas as pd\n",
    "import numpy as np\n",
    "import matplotlib.pyplot as plt\n",
    "import seaborn as sns\n",
    "import os\n",
    "from sklearn.model_selection import train_test_split\n",
    "\n",
    "# Configuración de visualizaciones\n",
    "sns.set_style('whitegrid')\n",
    "plt.rcParams['figure.figsize'] = (12, 6)\n",
    "\n",
    "DATA_DIR = 'data'\n",
    "OUTPUT_DIR = 'output'\n",
    "FIGS_DIR = os.path.join(OUTPUT_DIR, 'figs')\n",
    "os.makedirs(FIGS_DIR, exist_ok=True)\n",
    "\n",
    "# Carga de datos\n",
    "df = pd.read_csv(os.path.join(DATA_DIR, 'insurance.csv'))\n",
    "print(f'Dataset cargado: {df.shape[0]} registros, {df.shape[1]} columnas')\n",
    "df.head()"
   ]
  },
  {
   "cell_type": "markdown",
   "metadata": {},
   "source": [
    "## 2. Análisis inicial y descripción del conjunto de datos\n",
    "Revisamos los tipos de variables, datos faltantes y estadísticas básicas para entender la estructura del dataset."
   ]
  },
  {
   "cell_type": "code",
   "execution_count": null,
   "metadata": {},
   "outputs": [],
   "source": [
    "print('=== INFORMACIÓN DEL DATASET ===')\n",
    "df.info()"
   ]
  },
  {
   "cell_type": "code",
   "execution_count": null,
   "metadata": {},
   "outputs": [],
   "source": [
    "print('\\n=== VALORES FALTANTES ===')\n",
    "missing = df.isnull().sum()\n",
    "print(missing[missing > 0] if missing.sum() > 0 else 'No hay valores faltantes ✓')"
   ]
  },
  {
   "cell_type": "code",
   "execution_count": null,
   "metadata": {},
   "outputs": [],
   "source": [
    "print('\\n=== ESTADÍSTICAS DESCRIPTIVAS ===')\n",
    "df.describe(include='all').round(2)"
   ]
  },
  {
   "cell_type": "markdown",
   "metadata": {},
   "source": [
    "> **Justificación**: Revisar tipos y valores faltantes asegura que el análisis sea confiable y permite decidir si se requiere imputación o limpieza adicional. En este caso, no hay valores faltantes, lo cual facilita el análisis."
   ]
  },
  {
   "cell_type": "markdown",
   "metadata": {},
   "source": [
    "## 3. Transformaciones iniciales\n",
    "Convertimos columnas categóricas al tipo 'category' para optimizar memoria y facilitar análisis posteriores."
   ]
  },
  {
   "cell_type": "code",
   "execution_count": null,
   "metadata": {},
   "outputs": [],
   "source": [
    "cat_cols = ['sex', 'smoker', 'region']\n",
    "for col in cat_cols:\n",
    "    df[col] = df[col].astype('category')\n",
    "\n",
    "print('✓ Columnas categóricas convertidas:', cat_cols)\n",
    "print(df.dtypes)"
   ]
  },
  {
   "cell_type": "markdown",
   "metadata": {},
   "source": [
    "## 4. Análisis univariante: Variables numéricas\n",
    "Examinamos la distribución de cada variable numérica individualmente."
   ]
  },
  {
   "cell_type": "code",
   "execution_count": null,
   "metadata": {},
   "outputs": [],
   "source": [
    "num_cols = df.select_dtypes(include=[np.number]).columns.tolist()\n",
    "print(f'Variables numéricas: {num_cols}\\n')\n",
    "\n",
    "for col in num_cols:\n",
    "    fig, ax = plt.subplots(1, 1, figsize=(8, 4))\n",
    "    sns.histplot(df[col], kde=True, ax=ax, bins=30, color='steelblue')\n",
    "    ax.set_title(f'Distribución de {col}', fontsize=12, fontweight='bold')\n",
    "    ax.set_xlabel(col)\n",
    "    ax.set_ylabel('Frecuencia')\n",
    "    plt.tight_layout()\n",
    "    plt.savefig(os.path.join(FIGS_DIR, f'01_univariate_{col}.png'), dpi=100)\n",
    "    plt.show()\n",
    "    print(f'{col}: Min={df[col].min():.2f}, Max={df[col].max():.2f}, Media={df[col].mean():.2f}')"
   ]
  },
  {
   "cell_type": "markdown",
   "metadata": {},
   "source": [
    "## 5. Análisis univariante: Variables categóricas\n",
    "Revisamos la frecuencia de categorías en cada variable."
   ]
  },
  {
   "cell_type": "code",
   "execution_count": null,
   "metadata": {},
   "outputs": [],
   "source": [
    "for col in cat_cols + ['children']:\n",
    "    fig, ax = plt.subplots(1, 1, figsize=(8, 4))\n",
    "    sns.countplot(data=df, x=col, ax=ax, palette='Set2')\n",
    "    ax.set_title(f'Conteo por {col}', fontsize=12, fontweight='bold')\n",
    "    ax.set_ylabel('Cantidad')\n",
    "    plt.tight_layout()\n",
    "    plt.savefig(os.path.join(FIGS_DIR, f'02_univariate_{col}.png'), dpi=100)\n",
    "    plt.show()\n",
    "    print(f'\\n{col}:')\n",
    "    print(df[col].value_counts())"
   ]
  },
  {
   "cell_type": "markdown",
   "metadata": {},
   "source": [
    "## 📊 Deducciones univariantes\n",
    "\n",
    "**age**: Distribución aproximadamente uniforme. Los pacientes tienen edades entre 18 y 64 años, lo que sugiere una muestra representativa de diferentes grupos etarios.\n",
    "\n",
    "**bmi**: Distribución casi normal centrada alrededor de 30. La mayoría de pacientes tienen BMI normal a sobrepeso.\n",
    "\n",
    "**charges** (Variable Objetivo): Distribución fuertemente sesgada a la derecha. Hay muchos pacientes con costos bajos pero algunos con costos extremadamente altos (hasta $63,770), lo que indica la presencia de outliers.\n",
    "\n",
    "**smoker**: Desequilibrio claro. Aproximadamente el 20% son fumadores y el 80% no fumadores. Esta proporción desigual es importante para la modelización.\n",
    "\n",
    "**sex**: Distribución casi equilibrada entre hombres (50.5%) y mujeres (49.5%).\n",
    "\n",
    "**region**: Distribución uniforme entre las 4 regiones geográficas (southwest, southeast, northwest, northeast), cada una con ~25% de los datos.\n",
    "\n",
    "**children**: Mayor concentración en 0 hijos (42.9%), decrece con el número de hijos. Pocos pacientes tienen 5 hijos."
   ]
  },
  {
   "cell_type": "markdown",
   "metadata": {},
   "source": [
    "## 6. Filtrado de outliers (método IQR)\n",
    "Eliminamos valores extremos en la variable objetivo (charges) usando el método de intercuartiles."
   ]
  },
  {
   "cell_type": "code",
   "execution_count": null,
   "metadata": {},
   "outputs": [],
   "source": [
    "def remove_outliers_iqr(df_in, col, k=1.5):\n",
    "    \"\"\"Elimina outliers usando el método IQR.\n",
    "    k=1.5 es el estándar; k=3.0 es más conservador.\n",
    "    \"\"\"\n",
    "    q1 = df_in[col].quantile(0.25)\n",
    "    q3 = df_in[col].quantile(0.75)\n",
    "    iqr = q3 - q1\n",
    "    lower_bound = q1 - k * iqr\n",
    "    upper_bound = q3 + k * iqr\n",
    "    \n",
    "    print(f'Q1={q1:.2f}, Q3={q3:.2f}, IQR={iqr:.2f}')\n",
    "    print(f'Límite inferior: {lower_bound:.2f}')\n",
    "    print(f'Límite superior: {upper_bound:.2f}')\n",
    "    \n",
    "    mask = (df_in[col] >= lower_bound) & (df_in[col] <= upper_bound)\n",
    "    outliers_removed = (~mask).sum()\n",
    "    print(f'Outliers eliminados: {outliers_removed}')\n",
    "    \n",
    "    return df_in.loc[mask]\n",
    "\n",
    "print(f'Dataset original: {df.shape[0]} registros')\n",
    "df_filtered = remove_outliers_iqr(df, 'charges', k=1.5)\n",
    "print(f'Dataset después de filtrar: {df_filtered.shape[0]} registros')\n",
    "print(f'Registros eliminados: {df.shape[0] - df_filtered.shape[0]} ({((df.shape[0] - df_filtered.shape[0])/df.shape[0]*100):.1f}%)')"
   ]
  },
  {
   "cell_type": "markdown",
   "metadata": {},
   "source": [
    "> **Justificación**: El método IQR (Interquartile Range) es robusto y estadísticamente fundamentado. Elimina valores extremos que pueden distorsionar los modelos, permitiendo trabajar con datos más representativos. Usamos k=1.5 (estándar) para identificar outliers moderados."
   ]
  },
  {
   "cell_type": "markdown",
   "metadata": {},
   "source": [
    "## 7. Tratamiento de la variable objetivo\n",
    "Decidimos si aplicar transformación logarítmica a 'charges' para mejorar la distribución."
   ]
  },
  {
   "cell_type": "code",
   "execution_count": null,
   "metadata": {},
   "outputs": [],
   "source": [
    "print('=== ANÁLISIS DE CHARGES ===' )\n",
    "print(f'Mín: ${df_filtered[\"charges\"].min():,.2f}')\n",
    "print(f'Máx: ${df_filtered[\"charges\"].max():,.2f}')\n",
    "print(f'Media: ${df_filtered[\"charges\"].mean():,.2f}')\n",
    "print(f'Mediana: ${df_filtered[\"charges\"].median():,.2f}')\n",
    "print(f'Asimetría (Skewness): {df_filtered[\"charges\"].skew():.2f}')\n",
    "print(f'Curtosis: {df_filtered[\"charges\"].kurtosis():.2f}')\n",
    "\n",
    "# Aplicar transformación log\n",
    "if (df_filtered['charges'] > 0).all():\n",
    "    df_filtered['log_charges'] = np.log(df_filtered['charges'])\n",
    "    print('\\n✓ Transformación logarítmica aplicada a charges')\n",
    "    \n",
    "    fig, axes = plt.subplots(1, 2, figsize=(12, 4))\n",
    "    sns.histplot(df_filtered['charges'], kde=True, ax=axes[0], color='steelblue', bins=30)\n",
    "    axes[0].set_title('Charges - Original', fontweight='bold')\n",
    "    axes[0].set_xlabel('Charges ($)')\n",
    "    \n",
    "    sns.histplot(df_filtered['log_charges'], kde=True, ax=axes[1], color='coral', bins=30)\n",
    "    axes[1].set_title('Charges - Log Transformado', fontweight='bold')\n",
    "    axes[1].set_xlabel('Log(Charges)')\n",
    "    plt.tight_layout()\n",
    "    plt.savefig(os.path.join(FIGS_DIR, '03_charges_transformation.png'), dpi=100)\n",
    "    plt.show()\nelse:\n",
    "    print('⚠ Advertencia: charges tiene valores ≤ 0; no se puede aplicar log sin ajuste')"
   ]
  },
  {
   "cell_type": "markdown",
   "metadata": {},
   "source": [
    "> **Justificación**: La transformación logarítmica normaliza la distribución sesgada de charges, mejorando el rendimiento de modelos lineales y facilitando la interpretación de relaciones exponenciales."
   ]
  },
  {
   "cell_type": "markdown",
   "metadata": {},
   "source": [
    "## 8. Análisis bivariante: Variables numéricas vs Charges\n",
    "Examinamos la relación entre cada variable numérica y la variable objetivo."
   ]
  },
  {
   "cell_type": "code",
   "execution_count": null,
   "metadata": {},
   "outputs": [],
   "source": [
    "numeric_features = [col for col in num_cols if col not in ['charges', 'log_charges']]\n",
    "\n",
    "for col in numeric_features:\n",
    "    fig, ax = plt.subplots(1, 1, figsize=(8, 4))\n",
    "    sns.scatterplot(data=df_filtered, x=col, y='charges', alpha=0.5, ax=ax, color='steelblue')\n",
    "    \n",
    "    # Calcular correlación\n",
    "    corr = df_filtered[col].corr(df_filtered['charges'])\n",
    "    \n",
    "    ax.set_title(f'Charges vs {col} (Correlación: {corr:.3f})', fontsize=12, fontweight='bold')\n",
    "    ax.set_ylabel('Charges ($)')\n",
    "    plt.tight_layout()\n",
    "    plt.savefig(os.path.join(FIGS_DIR, f'04_bivariate_{col}_vs_charges.png'), dpi=100)\n",
    "    plt.show()"
   ]
  },
  {
   "cell_type": "markdown",
   "metadata": {},
   "source": [
    "## 9. Análisis bivariante: Variables categóricas vs Charges\n",
    "Comparamos cómo cada categoría impacta el costo del seguro."
   ]
  },
  {
   "cell_type": "code",
   "execution_count": null,
   "metadata": {},
   "outputs": [],
   "source": [
    "for col in cat_cols + ['children']:\n",
    "    fig, ax = plt.subplots(1, 1, figsize=(9, 5))\n",
    "    sns.boxplot(data=df_filtered, x=col, y='charges', ax=ax, palette='Set2')\n",
    "    ax.set_title(f'Distribución de Charges por {col}', fontsize=12, fontweight='bold')\n",
    "    ax.set_ylabel('Charges ($)')\n",
    "    plt.tight_layout()\n",
    "    plt.savefig(os.path.join(FIGS_DIR, f'05_bivariate_{col}.png'), dpi=100)\n",
    "    plt.show()"
   ]
  },
  {
   "cell_type": "markdown",
   "metadata": {},
   "source": [
    "## 📊 Deducciones bivariantes\n",
    "\n",
    "**age vs charges**: Relación cuadrática clara. Los costos permanecen bajos hasta ~45 años, luego aumentan drásticamente. Esto sugiere mayor consumo de servicios médicos con la edad.\n",
    "\n",
    "**bmi vs charges**: Correlación positiva moderada. Personas con BMI más alto tienden a tener costos más altos, sugiriendo que sobrepeso/obesidad aumenta riesgo médico.\n",
    "\n",
    "**children vs charges**: Relación débil. El número de hijos tiene poco impacto en el costo individual del paciente.\n",
    "\n",
    "**smoker vs charges**: Diferencia MUY significativa. Los fumadores pagan aproximadamente 3-4 veces más que no fumadores. Esta es la variable categórica más importante.\n",
    "\n",
    "**sex vs charges**: Diferencias mínimas entre hombres y mujeres. Esta variable tiene poco poder predictivo.\n",
    "\n",
    "**region vs charges**: Diferencias muy pequeñas entre regiones geográficas. Región no es factor relevante en costos."
   ]
  },
  {
   "cell_type": "markdown",
   "metadata": {},
   "source": [
    "## 10. Matriz de correlación\n",
    "Identificamos relaciones lineales entre todas las variables numéricas."
   ]
  },
  {
   "cell_type": "code",
   "execution_count": null,
   "metadata": {},
   "outputs": [],
   "source": [
    "# Calcular correlaciones solo con variables numéricas\n",
    "corr_matrix = df_filtered.select_dtypes(include=[np.number]).corr()\n",
    "\n",
    "fig, ax = plt.subplots(figsize=(8, 6))\n",
    "sns.heatmap(corr_matrix, annot=True, fmt='.2f', cmap='coolwarm', center=0, \n",
    "            square=True, linewidths=1, cbar_kws={\"shrink\": 0.8}, ax=ax)\n",
    "ax.set_title('Matriz de Correlación - Variables Numéricas', fontsize=12, fontweight='bold')\n",
    "plt.tight_layout()\n",
    "plt.savefig(os.path.join(FIGS_DIR, '06_correlation_matrix.png'), dpi=100)\n",
    "plt.show()\n",
    "\n",
    "print('\\n=== CORRELACIONES CON CHARGES ===')\n",
    "correlations = corr_matrix['charges'].sort_values(ascending=False)\n",
    "print(correlations)"
   ]
  },
  {
   "cell_type": "markdown",
   "metadata": {},
   "source": [
    "## 📊 Análisis de Correlaciones\n",
    "\n",
    "**Correlaciones Positivas Altas:**\n",
    "- **age (0.60)**: Relación fuerte. A mayor edad, mayor costo.\n",
    "- **log_charges (1.00)**: Perfecta (es transformación de charges).\n",
    "\n",
    "**Correlaciones Moderadas:**\n",
    "- **bmi (0.41)**: Relación moderada. BMI más alto = costos más altos.\n",
    "\n",
    "**Correlaciones Débiles:**\n",
    "- **children (-0.08)**: Prácticamente no correlacionada.\n",
    "\n",
    "**Decisión de Variables:**\n",
    "- **Mantener**: age, bmi (ambas tienen poder predictivo claro)\n",
    "- **Revisar**: children (muy baja correlación, pero incluir para contexto)\n",
    "- **Nota**: Las categorías smoker, sex y region se evaluarán en análisis posterior (requieren encoding)"
   ]
  },
  {
   "cell_type": "markdown",
   "metadata": {},
   "source": [
    "## 11. División del dataset: Train (80%) y Test (20%)\n",
    "Estratificamos por bins de charges para mantener la distribución de la variable objetivo."
   ]
  },
  {
   "cell_type": "code",
   "execution_count": null,
   "metadata": {},
   "outputs": [],
   "source": [
    "# Crear bins para estratificación\n",
    "n_bins = 5\n",
    "df_filtered['charges_bin'] = pd.qcut(df_filtered['charges'], q=n_bins, labels=False, duplicates='drop')\n",
    "\n",
    "print(f'Bins creados: {df_filtered[\"charges_bin\"].nunique()}')\n",
    "print(f'\\nDistribución por bin:\\n{df_filtered[\"charges_bin\"].value_counts().sort_index()}')\n",
    "\n",
    "# Split estratificado\n",
    "train_df, test_df = train_test_split(\n",
    "    df_filtered, \n",
    "    test_size=0.2, \n",
    "    random_state=42, \n",
    "    stratify=df_filtered['charges_bin']\n",
    ")\n",
    "\n",
    "# Remover columna auxiliar\n",
    "train_df = train_df.drop(columns=['charges_bin', 'log_charges'])\n",
    "test_df = test_df.drop(columns=['charges_bin', 'log_charges'])\n",
    "\n",
    "print(f'\\nTrain set: {train_df.shape[0]} registros ({train_df.shape[0]/df_filtered.shape[0]*100:.1f}%)')\n",
    "print(f'Test set: {test_df.shape[0]} registros ({test_df.shape[0]/df_filtered.shape[0]*100:.1f}%)')"
   ]
  },
  {
   "cell_type": "markdown",
   "metadata": {},
   "source": [
    "## 12. Verificación de estratificación\n",
    "Comprobamos que train y test mantienen distribuciones similares de charges."
   ]
  },
  {
   "cell_type": "code",
   "execution_count": null,
   "metadata": {},
   "outputs": [],
   "source": [
    "# Comparar distribuciones\n",
    "fig, axes = plt.subplots(1, 2, figsize=(12, 4))\n",
    "\n",
    "sns.histplot(train_df['charges'], kde=True, ax=axes[0], bins=30, color='steelblue')\n",
    "axes[0].set_title('Train - Distribución de Charges', fontweight='bold')\n",
    "axes[0].set_xlabel('Charges ($)')\n",
    "\n",
    "sns.histplot(test_df['charges'], kde=True, ax=axes[1], bins=30, color='coral')\n",
    "axes[1].set_title('Test - Distribución de Charges', fontweight='bold')\n",
    "axes[1].set_xlabel('Charges ($)')\n",
    "\n",
    "plt.tight_layout()\n",
    "plt.savefig(os.path.join(FIGS_DIR, '07_train_test_distribution.png'), dpi=100)\n",
    "plt.show()\n",
    "\n",
    "print('=== ESTADÍSTICAS COMPARATIVAS ===')\n",
    "print(f'Train - Media: ${train_df[\"charges\"].mean():,.2f}, Desv Std: ${train_df[\"charges\"].std():,.2f}')\n",
    "print(f'Test  - Media: ${test_df[\"charges\"].mean():,.2f}, Desv Std: ${test_df[\"charges\"].std():,.2f}')\nprint(f'\\nDiferencia de medias: ${abs(train_df[\"charges\"].mean() - test_df[\"charges\"].mean()):,.2f}')"
   ]
  },
  {
   "cell_type": "markdown",
   "metadata": {},
   "source": [
    "> **Justificación**: Estratificar garantiza que las proporciones de charges en train y test sean similares, evitando sesgos en la evaluación del modelo. Las distribuciones deben verse prácticamente idénticas."
   ]
  },
  {
   "cell_type": "markdown",
   "metadata": {},
   "source": [
    "## 13. Validación de datos limpios\n",
    "Verificamos que no hay duplicados ni valores faltantes en los splits finales."
   ]
  },
  {
   "cell_type": "code",
   "execution_count": null,
   "metadata": {},
   "outputs": [],
   "source": [
    "print('=== VALIDACIÓN TRAIN ===' )\n",
    "print(f'Registros: {train_df.shape[0]}')\n",
    "print(f'Valores faltantes: {train_df.isnull().sum().sum()}')\n",
    "print(f'Duplicados: {train_df.duplicated().sum()}')\n",
    "\n",
    "print('\\n=== VALIDACIÓN TEST ===')\n",
    "print(f'Registros: {test_df.shape[0]}')\n",
    "print(f'Valores faltantes: {test_df.isnull().sum().sum()}')\n",
    "print(f'Duplicados: {test_df.duplicated().sum()}')\n",
    "\n",
    "print('\\n✓ Datasets listos para modelado')"
   ]
  },
  {
   "cell_type": "markdown",
   "metadata": {},
   "source": [
    "## 14. Guardado de datasets y reportes"
   ]
  },
  {
   "cell_type": "code",
   "execution_count": null,
   "metadata": {},
   "outputs": [],
   "source": [
    "# Guardar datasets\n",
    "train_df.to_csv(os.path.join(DATA_DIR, 'train.csv'), index=False)\n",
    "test_df.to_csv(os.path.join(DATA_DIR, 'test.csv'), index=False)\nprint('✓ Archivos salvados: train.csv, test.csv')\n",
    "\n",
    "# Guardar deducciones\n",
    "with open(os.path.join(OUTPUT_DIR, 'deductions.txt'), 'w', encoding='utf-8') as f:\n",
    "    f.write('=== DEDUCCIONES DEL EDA ===\\n\\n')\n",
    "    f.write('UNIVARIANTE:\\n')\n",
    "    f.write('- charges es fuertemente sesgada a la derecha (outliers en costos altos)\\n')\n",
    "    f.write('- smoker tiene desequilibrio: 20% fuma, 80% no fuma\\n')\n",
    "    f.write('- edad distribuida uniformemente (18-64 años)\\n')\n",
    "    f.write('- region uniforme entre 4 categorías\\n\\n')\n",
    "    f.write('BIVARIANTE:\\n')\n",
    "    f.write('- Fumadores pagan 3-4x más que no fumadores (VARIABLE MÁS IMPORTANTE)\\n')\n",
    "    f.write('- age: correlación fuerte (0.60) - relación cuadrática\\n')\n",
    "    f.write('- bmi: correlación moderada (0.41)\\n')\n",
    "    f.write('- sex y region: correlaciones muy débiles (<0.1)\\n')\n",
    "    f.write('- children: correlación casi nula (-0.08)\\n\\n')\n",
    "    f.write('ACCIONES TOMADAS:\\n')\n",
    "    f.write(f'- Eliminados {df.shape[0] - df_filtered.shape[0]} outliers por IQR\\n')\n",
    "    f.write('- Aplicada transformación logarítmica a charges\\n')\n",
    "    f.write('- Split 80/20 estratificado por charges\\n')\n",
    "\nprint('✓ Deducciones guardadas: deductions.txt')\n",
    "\n",
    "    # Guardar correlaciones\n",
    "with open(os.path.join(OUTPUT_DIR, 'correlations.txt'), 'w', encoding='utf-8') as f:\n",
    "    f.write('=== CORRELACIONES CON CHARGES (VARIABLE OBJETIVO) ===\\n\\n')\n",
    "    for var, corr_val in correlations.items():\n",
    "        f.write(f'{var}: {corr_val:.4f}\\n')\n",
    "\n",
    "print('✓ Correlaciones guardadas: correlations.txt')\n",
    "\n",
    "# Guardar resumen\n",
    "with open(os.path.join(OUTPUT_DIR, 'summary.txt'), 'w', encoding='utf-8') as f:\n",
    "    f.write('=== RESUMEN EDA SEGURO MÉDICO ===\\n\\n')\n",
    "    f.write('DATASET ORIGINAL:\\n')\n",
    "    f.write(f'- Registros: {df.shape[0]}\\n')\n",
    "    f.write(f'- Características: {df.shape[1]}\\n')\n",
    "    f.write(f'- Valores faltantes: 0\\n\\n')\n",
    "    f.write('DESPUÉS DE FILTRADO (IQR k=1.5):\\n')\n",
    "    f.write(f'- Registros: {df_filtered.shape[0]}\\n')\n",
    "    f.write(f'- Outliers removidos: {df.shape[0] - df_filtered.shape[0]}\\n')\n",
    "    f.write(f'- Porcentaje eliminado: {(df.shape[0] - df_filtered.shape[0])/df.shape[0]*100:.2f}%\\n\\n')\n",
    "    f.write('SPLIT FINAL:\\n')\n",
    "    f.write(f'- Train: {train_df.shape[0]} registros (80%)\\n')\n",
    "    f.write(f'- Test: {test_df.shape[0]} registros (20%)\\n\\n')\n",
    "    f.write('VARIABLES NUMÉRICAS:\\n')\n",
    "    f.write(f'- age: rango 18-64 años\\n')\n",
    "    f.write(f'- bmi: rango 15.96-53.13\\n')\n",
    "    f.write(f'- charges: rango ${train_df[\"charges\"].min():,.2f} - ${train_df[\"charges\"].max():,.2f}\\n\\n')\n",
    "    f.write('VARIABLES CATEGÓRICAS:\\n')\n",
    "    f.write(f'- sex: male, female\\n')\n",
    "    f.write(f'- smoker: yes (fumadores), no\\n')\n",
    "    f.write(f'- region: southwest, southeast, northwest, northeast\\n')\n",
    "    f.write(f'- children: 0 a 5 hijos\\n')\n",
    "\n",
    "print('✓ Resumen guardado: summary.txt')\nprint('\\n=== EDA COMPLETADO EXITOSAMENTE ===')"
   ]
  },
  {
   "cell_type": "markdown",
   "metadata": {},
   "source": [
    "## 15. Siguientes pasos\n",
    "\n",
    "Los datos están listos para modelado. Próximas etapas:\n",
    "\n",
    "1. **Preprocesamiento**: Encoding de categorías (one-hot encoding para region, label encoding para smoker/sex)\n",
    "2. **Feature Scaling**: Normalización de age, bmi para algoritmos sensibles a escala\n",
    "3. **Modelos de Regresión**: Entrenar modelos para predecir charges\n",
    "4. **Evaluación**: Métricas como MAE, RMSE, R² para validar rendimiento\n",
    "5. **Interpretabilidad**: Analizar importancia de features en predicciones"
   ]
  },
  {
   "cell_type": "markdown",
   "metadata": {},
   "source": [
    "## 📁 Archivos generados\n",
    "\n",
    "**Datasets:**\n",
    "- `data/train.csv` - 80% para entrenamiento\n",
    "- `data/test.csv` - 20% para evaluación\n",
    "\n",
    "**Reportes:**\n",
    "- `output/deductions.txt` - Observaciones clave\n",
    "- `output/correlations.txt` - Matriz de correlaciones\n",
    "- `output/summary.txt` - Resumen estadístico\n",
    "\n",
    "**Visualizaciones:**\n",
    "- `output/figs/01_univariate_*.png` - Distribuciones individuales\n",
    "- `output/figs/02_univariate_*.png` - Conteos categóricos\n",
    "- `output/figs/03_charges_transformation.png` - Antes/después log\n",
    "- `output/figs/04_bivariate_*.png` - Scatter plots\n",
    "- `output/figs/05_bivariate_*.png` - Box plots\n",
    "- `output/figs/06_correlation_matrix.png` - Heatmap\n",
    "- `output/figs/07_train_test_distribution.png` - Comparación splits"
   ]
  }
 ],
 "metadata": {
  "kernelspec": {
   "display_name": "Python 3",
   "language": "python",
   "name": "python3"
  },
  "language_info": {
   "codemirror_mode": {
    "name": "ipython",
    "version": 3
   },
   "file_extension": ".py",
   "mimetype": "text/x-python",
   "name": "python",
   "nbconvert_exporter": "python",
   "pygments_lexer": "ipython3",
   "version": "3.9.0"
  }
 },
 "nbformat": 4,
 "nbformat_minor": 2
}
